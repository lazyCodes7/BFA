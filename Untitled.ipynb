{
 "cells": [
  {
   "cell_type": "code",
   "execution_count": 10,
   "id": "70d7cefb",
   "metadata": {
    "scrolled": true
   },
   "outputs": [],
   "source": [
    "from models import vit_base_patch16_224"
   ]
  },
  {
   "cell_type": "code",
   "execution_count": 3,
   "id": "3818ca45",
   "metadata": {},
   "outputs": [
    {
     "name": "stdout",
     "output_type": "stream",
     "text": [
      "assets\t\t\t    docs\t\t   README.md\r\n",
      "attack\t\t\t    environment.yml\t   README_pre.md\r\n",
      "attack_profile_16_size.csv  eval_CIFAR.sh\t   train_CIFAR.sh\r\n",
      "attack_profile_32_size.csv  eval_imagenet_quan.sh  train_imagenet.sh\r\n",
      "attack_profile_64_size.csv  eval_imagenet.sh\t   Untitled.ipynb\r\n",
      "BFA_CIFAR.sh\t\t    License\t\t   utils.py\r\n",
      "BFA_imagenet.sh\t\t    main.py\t\t   visulization\r\n",
      "_config.yml\t\t    models\r\n"
     ]
    }
   ],
   "source": []
  },
  {
   "cell_type": "code",
   "execution_count": 11,
   "id": "6eaa24cb",
   "metadata": {},
   "outputs": [],
   "source": [
    "model = vit_base_patch16_224(pretrained = True)"
   ]
  },
  {
   "cell_type": "code",
   "execution_count": 12,
   "id": "da7fc1d8",
   "metadata": {},
   "outputs": [],
   "source": [
    "module_list = list(model.modules())"
   ]
  },
  {
   "cell_type": "code",
   "execution_count": 14,
   "id": "3ec548fb",
   "metadata": {},
   "outputs": [
    {
     "data": {
      "text/plain": [
       "models.quantization.quan_Conv2d"
      ]
     },
     "execution_count": 14,
     "metadata": {},
     "output_type": "execute_result"
    }
   ],
   "source": [
    "type(module_list[2])"
   ]
  },
  {
   "cell_type": "code",
   "execution_count": null,
   "id": "ee4b0733",
   "metadata": {},
   "outputs": [],
   "source": []
  }
 ],
 "metadata": {
  "kernelspec": {
   "display_name": "Python 3 (ipykernel)",
   "language": "python",
   "name": "python3"
  },
  "language_info": {
   "codemirror_mode": {
    "name": "ipython",
    "version": 3
   },
   "file_extension": ".py",
   "mimetype": "text/x-python",
   "name": "python",
   "nbconvert_exporter": "python",
   "pygments_lexer": "ipython3",
   "version": "3.10.6"
  }
 },
 "nbformat": 4,
 "nbformat_minor": 5
}
